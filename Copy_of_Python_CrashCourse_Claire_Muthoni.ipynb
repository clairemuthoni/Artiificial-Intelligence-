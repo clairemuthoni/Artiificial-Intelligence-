{
  "nbformat": 4,
  "nbformat_minor": 0,
  "metadata": {
    "colab": {
      "provenance": [],
      "toc_visible": true
    },
    "kernelspec": {
      "name": "python3",
      "display_name": "Python 3"
    },
    "language_info": {
      "name": "python"
    }
  },
  "cells": [
    {
      "cell_type": "markdown",
      "source": [
        "# **Hello World**"
      ],
      "metadata": {
        "id": "FO7vWE3iknoD"
      }
    },
    {
      "cell_type": "code",
      "source": [
        "#This is my code snippet\n",
        "\n",
        "def HelloWord():\n",
        "  print(\"Hello word\")\n",
        "\n",
        "\n",
        "HelloWord()"
      ],
      "metadata": {
        "id": "RD1eOEezk3Uw",
        "colab": {
          "base_uri": "https://localhost:8080/"
        },
        "outputId": "4d2c98b4-d852-4df4-e728-904a0439d8df"
      },
      "execution_count": null,
      "outputs": [
        {
          "output_type": "stream",
          "name": "stdout",
          "text": [
            "Hello word\n"
          ]
        }
      ]
    },
    {
      "cell_type": "markdown",
      "source": [
        "Three take aways from this area of learning using python:\n",
        "\n",
        "\n",
        "*   Takeaway 1\n",
        "*   Takeaway 2\n",
        "\n",
        "\n",
        "\n",
        "\n",
        "\n"
      ],
      "metadata": {
        "id": "6Wle7cHKlNfc"
      }
    },
    {
      "cell_type": "markdown",
      "source": [
        "# **Control Flow**"
      ],
      "metadata": {
        "id": "JAbH6ltgl_V4"
      }
    },
    {
      "cell_type": "code",
      "source": [
        "#This is my code snippet\n",
        "def HelloWord():\n",
        "  print(\"Hello word\")"
      ],
      "metadata": {
        "id": "5EKkU0BCmIGe"
      },
      "execution_count": null,
      "outputs": []
    },
    {
      "cell_type": "markdown",
      "source": [
        "Three take aways from this area of learning using python:\n",
        "\n",
        "\n",
        "*   Takeaway 1\n",
        "*   Takeaway 2"
      ],
      "metadata": {
        "id": "GyTbpRUjmQE8"
      }
    },
    {
      "cell_type": "markdown",
      "source": [
        "# Comments"
      ],
      "metadata": {
        "id": "jg2VSPh2SIUj"
      }
    },
    {
      "cell_type": "code",
      "source": [
        "# display the word hello world\n",
        "print(\"hello world\")"
      ],
      "metadata": {
        "id": "BleL_hgxSiBJ",
        "outputId": "003295be-dabc-4197-d9db-d73d0d741f67",
        "colab": {
          "base_uri": "https://localhost:8080/"
        }
      },
      "execution_count": null,
      "outputs": [
        {
          "output_type": "stream",
          "name": "stdout",
          "text": [
            "hello world\n"
          ]
        }
      ]
    },
    {
      "cell_type": "markdown",
      "source": [
        "#**Conditional Statements**"
      ],
      "metadata": {
        "id": "pZ7wWEaFSlJn"
      }
    },
    {
      "cell_type": "markdown",
      "source": [
        "## if statements"
      ],
      "metadata": {
        "id": "RQj1kKuWrCor"
      }
    },
    {
      "cell_type": "code",
      "source": [
        "#Challenge 1\n",
        "# In our first challenge, we will find out if y is less than 7\n",
        "# If so, we will print out yes.\n",
        "#\n",
        "\n",
        "# We first declare and assign 1 to variable x and 7 to variable y\n",
        "x = 1\n",
        "y = 7\n",
        "\n",
        "if y < 7:\n",
        "   print(\"yes\")"
      ],
      "metadata": {
        "id": "5rvXKURLUojf"
      },
      "execution_count": null,
      "outputs": []
    },
    {
      "cell_type": "markdown",
      "source": [
        "## elif statements"
      ],
      "metadata": {
        "id": "Iwj3St82rGBe"
      }
    },
    {
      "cell_type": "code",
      "source": [
        "# Challenge 2\n",
        "# Let's now write a program that reads an integer\n",
        "# from a user then displays a message indicating\n",
        "# whether the integer is even or odd.\n",
        "#\n",
        "num =  input(\"Please enter a number: \")\n",
        "number = int(num)\n",
        "if number % 2 == 0:\n",
        "   print(\"this is an even number\")\n",
        "elif number % 2 != 0:\n",
        "  print(\" this is not an even number\")\n"
      ],
      "metadata": {
        "id": "YAkZQY6hppVP",
        "outputId": "485c7364-c5f9-4473-9547-08924a207264",
        "colab": {
          "base_uri": "https://localhost:8080/"
        }
      },
      "execution_count": null,
      "outputs": [
        {
          "output_type": "stream",
          "name": "stdout",
          "text": [
            "Please enter a number: 6\n",
            "this is an even number\n"
          ]
        }
      ]
    },
    {
      "cell_type": "markdown",
      "source": [
        "##else"
      ],
      "metadata": {
        "id": "d9tXj3BCt5nS"
      }
    },
    {
      "cell_type": "code",
      "source": [
        "#Challenge 3\n",
        "# Let's write a program that reads a month and day from the user.\n",
        "# If the month and day matches one of the holidays listed previously\n",
        "# then the program should display the Kenyan holiday’s name.\n",
        "# Otherwise our program should indicate that the entered month and day\n",
        "# do not correspond to a holiday. (You should use the else keyword)\n",
        "import datetime\n",
        "\n",
        "# Define a dictionary containing the holidays and their dates\n",
        "holidays = {\n",
        "    \"New Year's Day\": (1, 1),\n",
        "    \"Madaraka Day\": (6, 1),\n",
        "}\n",
        "\n",
        "# Get input from the user\n",
        "month = int(input(\"Enter the month (1-12): \"))\n",
        "day = int(input(\"Enter the day (1-31): \"))\n",
        "\n",
        "# Check if the date matches a holiday\n",
        "for holiday_name, (holiday_month, holiday_day) in holidays.items():\n",
        "    if month == holiday_month and day == holiday_day:\n",
        "        print(f\"Today is {holiday_name}!\")\n",
        "        break\n",
        "else:\n",
        "    print(\"The entered date is not a Kenyan holiday.\")"
      ],
      "metadata": {
        "id": "2ae9hLOYt35E",
        "outputId": "83ffdc56-d24e-4123-ddee-2aa0ac14364f",
        "colab": {
          "base_uri": "https://localhost:8080/"
        }
      },
      "execution_count": null,
      "outputs": [
        {
          "output_type": "stream",
          "name": "stdout",
          "text": [
            "Enter the month (1-12): 6\n",
            "Enter the day (1-31): 6\n",
            "The entered date is not a Kenyan holiday.\n"
          ]
        }
      ]
    },
    {
      "cell_type": "markdown",
      "source": [
        "## And"
      ],
      "metadata": {
        "id": "a3krU3--w3sW"
      }
    },
    {
      "cell_type": "code",
      "source": [
        "# Challenge 4:\n",
        "# Given the 3 sides of a triangle x, y and z, let's find out\n",
        "# whether the triangle is equilateral, isosceles or obtuse.\n",
        "# Note: An equilateral triagnle has all sides are equal,\n",
        "# isosceles means that two of the sides are equal but not the third one,\n",
        "# obtuse means all 3 are different. The user will be prompted\n",
        "# to provide the values of x, y and z\n",
        "#\n",
        "x = int(input(\"Enter side one of the triangle\"))\n",
        "y = int(input('Enter side two of the triangle'))\n",
        "y = int(input('Enter side three of the triangle'))\n",
        "\n",
        "if x == y and x == z:\n",
        "  print(\"The triangle is and equilateral triangle \")\n",
        "elif x ==y and x != z:\n",
        "  print(\"The triangle is an isoscles triangle\")\n",
        "else :\n",
        "   print(\"The triangle is a scalene triangle \")\n"
      ],
      "metadata": {
        "id": "SYpYcYq6w5oT",
        "outputId": "7c19d9ad-4f41-47a8-ee14-fdef1eb2e069",
        "colab": {
          "base_uri": "https://localhost:8080/"
        }
      },
      "execution_count": null,
      "outputs": [
        {
          "output_type": "stream",
          "name": "stdout",
          "text": [
            "Enter side one of the triangle6\n",
            "Enter side two of the triangle7\n",
            "Enter side three of the triangle9\n",
            "The triangle is a scalene triangle \n"
          ]
        }
      ]
    },
    {
      "cell_type": "markdown",
      "source": [
        "## Or"
      ],
      "metadata": {
        "id": "U2dxR-OYzAca"
      }
    },
    {
      "cell_type": "code",
      "source": [
        "# Challenge 5\n",
        "# Let's write a program that prompts a letter from a user.\n",
        "# When any of the letters a, e, i, o or u are entered,\n",
        "# then your program should display a message indicating that the entered letter is a vowel.\n",
        "# If the user enters y then your program should display a message\n",
        "# indicating that sometimes y is a vowel, and sometimes y is a consonant.\n",
        "# Else the program should display a message indicating that the letter is a consonant.\n",
        "#\n",
        "\n",
        "letter = input(\"Enter a letter: \")\n",
        "vowels = \"aeiouAEIOU\"\n",
        "if letter in vowels :\n",
        "  print(\"This is a vowel \")\n",
        "else :\n",
        "  print(\"This is a consonant\")"
      ],
      "metadata": {
        "id": "35N6GMmSzvay",
        "outputId": "53c36082-c7a5-4145-d262-6c00115bde19",
        "colab": {
          "base_uri": "https://localhost:8080/"
        }
      },
      "execution_count": null,
      "outputs": [
        {
          "output_type": "stream",
          "name": "stdout",
          "text": [
            "Enter a letter: h\n",
            "This is a consonant\n"
          ]
        }
      ]
    },
    {
      "cell_type": "markdown",
      "source": [
        "## For loop iterating through  a word"
      ],
      "metadata": {
        "id": "LyVMabbkF5Tg"
      }
    },
    {
      "cell_type": "code",
      "source": [
        "# Example 1\n",
        "# For loops can also used for iterating over a string as shown;\n",
        "# Iterating through the string \"moringa\"\n",
        "# The logic behind it is pretty much the same as that of looping through lists.\n",
        "\n",
        "for y in \"Claire\":\n",
        "  print(y)"
      ],
      "metadata": {
        "colab": {
          "base_uri": "https://localhost:8080/"
        },
        "id": "tDT8ehm8F86T",
        "outputId": "bf11af3f-b71e-42dd-bafe-5912e3fc3973"
      },
      "execution_count": null,
      "outputs": [
        {
          "output_type": "stream",
          "name": "stdout",
          "text": [
            "C\n",
            "l\n",
            "a\n",
            "i\n",
            "r\n",
            "e\n"
          ]
        }
      ]
    },
    {
      "cell_type": "code",
      "source": [],
      "metadata": {
        "id": "z57JW1nyGBSr"
      },
      "execution_count": null,
      "outputs": []
    },
    {
      "cell_type": "markdown",
      "source": [
        "#**Lists**"
      ],
      "metadata": {
        "id": "xaSt_Att2yiD"
      }
    },
    {
      "cell_type": "markdown",
      "source": [
        "## creating lists"
      ],
      "metadata": {
        "id": "bUzwsETJ2_9r"
      }
    },
    {
      "cell_type": "code",
      "source": [
        "# Challenge 1:\n",
        "# Let's create a list of 3 counties in Kenya and then print out the list below;\n",
        "#\n",
        "counties = [\"Nairobi\", \"Mombasa\", \"Nakuru\"]\n",
        "print(counties)"
      ],
      "metadata": {
        "id": "De3tPjNZ23B3",
        "outputId": "7c04ea65-dec0-420e-975c-76e85839d499",
        "colab": {
          "base_uri": "https://localhost:8080/"
        }
      },
      "execution_count": null,
      "outputs": [
        {
          "output_type": "stream",
          "name": "stdout",
          "text": [
            "['Nairobi', 'Mombasa', 'Nakuru']\n"
          ]
        }
      ]
    },
    {
      "cell_type": "markdown",
      "source": [
        "##adding elements to a list"
      ],
      "metadata": {
        "id": "eLUXcEbt3ENa"
      }
    },
    {
      "cell_type": "code",
      "source": [
        "# Challenge 2:\n",
        "#Add a fourth county to the county list\n",
        "# that you defined above and then print out the list.\n",
        "#\n",
        "counties.append(\"Lamu\")\n",
        "print(counties)"
      ],
      "metadata": {
        "id": "0byVAAKK3DKp",
        "outputId": "8a4a0c45-f7e4-4549-f058-706c2a972afc",
        "colab": {
          "base_uri": "https://localhost:8080/"
        }
      },
      "execution_count": null,
      "outputs": [
        {
          "output_type": "stream",
          "name": "stdout",
          "text": [
            "['Nairobi', 'Mombasa', 'Nakuru', 'Lamu']\n"
          ]
        }
      ]
    },
    {
      "cell_type": "markdown",
      "source": [
        "## updating elements in a list"
      ],
      "metadata": {
        "id": "IU2lNPoL3i27"
      }
    },
    {
      "cell_type": "code",
      "source": [
        "# Challenge 3\n",
        "# Update the second county to the county list that\n",
        "# you defined above and then print out the list.\n",
        "# (NB: Update of choice)\n",
        "#\n",
        "counties[1] = \"Kisumu\"\n",
        "print(counties)"
      ],
      "metadata": {
        "id": "nyp9X19w3vxe",
        "outputId": "93483edf-99ca-4ed6-bae9-9b206f59c0a8",
        "colab": {
          "base_uri": "https://localhost:8080/"
        }
      },
      "execution_count": null,
      "outputs": [
        {
          "output_type": "stream",
          "name": "stdout",
          "text": [
            "['Nairobi', 'Kisumu', 'Nakuru', 'Lamu']\n"
          ]
        }
      ]
    },
    {
      "cell_type": "markdown",
      "source": [
        "##Accessing elements from a list"
      ],
      "metadata": {
        "id": "ZOSj6nzs4xco"
      }
    },
    {
      "cell_type": "code",
      "source": [
        "# Challenge 4\n",
        "# Let's access the second item in the counties list above\n",
        "#\n",
        "county_two = counties[1]\n",
        "print(county_two)"
      ],
      "metadata": {
        "id": "R8j79QNg44OL",
        "outputId": "deed9d96-a32f-4841-dc21-85e2f1304ea2",
        "colab": {
          "base_uri": "https://localhost:8080/"
        }
      },
      "execution_count": null,
      "outputs": [
        {
          "output_type": "stream",
          "name": "stdout",
          "text": [
            "Kisumu\n"
          ]
        }
      ]
    },
    {
      "cell_type": "markdown",
      "source": [
        "## Removing elements"
      ],
      "metadata": {
        "id": "9UEiuykE5R2_"
      }
    },
    {
      "cell_type": "code",
      "source": [
        "# Challenge 5\n",
        "# Remove the third element from the counties list above\n",
        "#\n",
        "del counties[2];\n",
        "print(counties)"
      ],
      "metadata": {
        "id": "4lOHXjYm5b1_",
        "outputId": "2bdea4b8-aec2-4b4a-c080-0cc5d9e548ae",
        "colab": {
          "base_uri": "https://localhost:8080/"
        }
      },
      "execution_count": null,
      "outputs": [
        {
          "output_type": "stream",
          "name": "stdout",
          "text": [
            "['Nairobi', 'Kisumu', 'Lamu']\n"
          ]
        }
      ]
    },
    {
      "cell_type": "markdown",
      "source": [
        "## Slicing a list"
      ],
      "metadata": {
        "id": "DL8xxdcH59Yw"
      }
    },
    {
      "cell_type": "code",
      "source": [
        "# Challenge 6\n",
        "# Print the last two items of the counties list\n",
        "#\n",
        "counties_finel = counties[-2:]\n",
        "print(counties_finel)"
      ],
      "metadata": {
        "id": "8z_lGwjt6HvO",
        "outputId": "64da0cf8-8651-401c-8107-ae6ce2f5dcbf",
        "colab": {
          "base_uri": "https://localhost:8080/"
        }
      },
      "execution_count": null,
      "outputs": [
        {
          "output_type": "stream",
          "name": "stdout",
          "text": [
            "['Kisumu', 'Lamu']\n"
          ]
        }
      ]
    },
    {
      "cell_type": "markdown",
      "source": [
        "#**DIctionaries**"
      ],
      "metadata": {
        "id": "L4VL4OQB6ZGi"
      }
    },
    {
      "cell_type": "markdown",
      "source": [
        "## Creating a dictionary\n"
      ],
      "metadata": {
        "id": "N-kgiNWF7NYu"
      }
    },
    {
      "cell_type": "code",
      "source": [
        "# Challenge 1\n",
        "# We can create a dictionary by placing a sequence of elements within curly braces,\n",
        "# separated by commas as show in the following example.\n",
        "# Let's create a dictionary my_new_friend\n",
        "#\n",
        "my_new_friend = {\n",
        "    'name':'Femi',\n",
        "    'age': 24\n",
        "}\n",
        "\n",
        "# print\n",
        "print(my_new_friend)"
      ],
      "metadata": {
        "colab": {
          "base_uri": "https://localhost:8080/"
        },
        "id": "qV711IRJ7yZ0",
        "outputId": "379d530e-79fc-45c5-9c1f-ea8af9bba12b"
      },
      "execution_count": null,
      "outputs": [
        {
          "output_type": "stream",
          "name": "stdout",
          "text": [
            "{'name': 'Femi', 'age': 24}\n"
          ]
        }
      ]
    },
    {
      "cell_type": "markdown",
      "source": [
        "## Adding elements to a dictionary"
      ],
      "metadata": {
        "id": "HRVB9QUb7SXN"
      }
    },
    {
      "cell_type": "code",
      "source": [
        "# Challenge 2\n",
        "# Adding a residence to my_new_friend dictionary that we had initially created\n",
        "#\n",
        "my_new_friend = {\n",
        "    'name':'Femi',\n",
        "    'age': 24\n",
        "}\n",
        "\n",
        "my_new_friend['residence'] = 'Nairobi'\n",
        "\n",
        "# print out my_new_friend\n",
        "print(my_new_friend)"
      ],
      "metadata": {
        "colab": {
          "base_uri": "https://localhost:8080/"
        },
        "id": "hHsTuHxj7D4V",
        "outputId": "d308f0b1-c389-4cf5-d485-5b8d57bacd96"
      },
      "execution_count": null,
      "outputs": [
        {
          "output_type": "stream",
          "name": "stdout",
          "text": [
            "{'name': 'Femi', 'age': 24, 'residence': 'Nairobi'}\n"
          ]
        }
      ]
    },
    {
      "cell_type": "markdown",
      "source": [
        "## Updating elements in a dictionary"
      ],
      "metadata": {
        "id": "gJ3b9nM09dkA"
      }
    },
    {
      "cell_type": "code",
      "source": [
        "# Challenge 3\n",
        "# Let's update age on the dictionary my_new_friend\n",
        "#\n",
        "my_new_friend['age'] = 26\n",
        "\n",
        "# print out\n",
        "print(my_new_friend)"
      ],
      "metadata": {
        "colab": {
          "base_uri": "https://localhost:8080/"
        },
        "id": "3chrCEms-AlV",
        "outputId": "a8062539-734b-4e4b-add5-f1f51a65cd3f"
      },
      "execution_count": null,
      "outputs": [
        {
          "output_type": "stream",
          "name": "stdout",
          "text": [
            "{'name': 'Femi', 'age': 26, 'residence': 'Nairobi'}\n"
          ]
        }
      ]
    },
    {
      "cell_type": "markdown",
      "source": [
        "##Accessing elements in a dictionary"
      ],
      "metadata": {
        "id": "_H9cfSS4-zRd"
      }
    },
    {
      "cell_type": "code",
      "source": [
        "# CHallenge 4\n",
        "# Accessing my_new_friend dictionary\n",
        "#\n",
        "name_a = my_new_friend[\"name\"]\n",
        "\n",
        "# print name_a\n",
        "print(name_a)\n",
        "\n",
        "# or we could also\n",
        "name_b = my_new_friend.get(\"name\")\n",
        "\n",
        "# print name_b\n",
        "print(name_b)"
      ],
      "metadata": {
        "colab": {
          "base_uri": "https://localhost:8080/"
        },
        "id": "ZItr3pxT-_0N",
        "outputId": "4d8c97ca-3d99-442f-ab00-95d8346f473b"
      },
      "execution_count": null,
      "outputs": [
        {
          "output_type": "stream",
          "name": "stdout",
          "text": [
            "Femi\n",
            "Femi\n"
          ]
        }
      ]
    },
    {
      "cell_type": "markdown",
      "source": [
        "## Checking if a key exists"
      ],
      "metadata": {
        "id": "6xED3agH_Kdb"
      }
    },
    {
      "cell_type": "code",
      "source": [
        "# Challenge 5\n",
        "#check if a specified key exists within a dictionary through the use of the `in` keyword;\n",
        "# Let's check if the keyword residence exists in my_new_friend dictionary\n",
        "#\n",
        "if \"residence\" in my_new_friend:\n",
        "  print(\"Yes, the keyword exists in the dictionary\")\n",
        "else:\n",
        "  print('No, the keyword does not exist in the dictionary')\n"
      ],
      "metadata": {
        "colab": {
          "base_uri": "https://localhost:8080/"
        },
        "id": "A-94R4F0_OW0",
        "outputId": "0b922802-7c5a-4a76-961d-ce16836374f7"
      },
      "execution_count": null,
      "outputs": [
        {
          "output_type": "stream",
          "name": "stdout",
          "text": [
            "Yes, the keyword exists in the dictionary\n"
          ]
        }
      ]
    },
    {
      "cell_type": "markdown",
      "source": [
        "## Checking the number of elements in a dictionary"
      ],
      "metadata": {
        "id": "jqFrTF2o_mOH"
      }
    },
    {
      "cell_type": "code",
      "source": [
        "# Challenge 6\n",
        "# We can check if a specified key exists within a dictionary through the use of the `in` keyword;\n",
        "# Let's check if the keyword residence exists in my_new_friend dictionary\n",
        "#\n",
        "if \"residence\" in my_new_friend:\n",
        "  print(\"Yes, the keyword exists in the dictionary\")\n",
        "else:\n",
        "  print('No, the keyword does not exist in the dictionary')"
      ],
      "metadata": {
        "colab": {
          "base_uri": "https://localhost:8080/"
        },
        "id": "skWl7tSE_tKr",
        "outputId": "00fb7843-9d28-4319-9902-2219e209106a"
      },
      "execution_count": null,
      "outputs": [
        {
          "output_type": "stream",
          "name": "stdout",
          "text": [
            "Yes, the keyword exists in the dictionary\n"
          ]
        }
      ]
    },
    {
      "cell_type": "markdown",
      "source": [
        "## Removing elements from a dictionary"
      ],
      "metadata": {
        "id": "-9RlpY6r_yz7"
      }
    },
    {
      "cell_type": "code",
      "source": [
        "# Challenge 7\n",
        "# We can remove a specific item from the dictionary\n",
        "# with the specified key name using the pop() method.\n",
        "# The clear() method clears the items in the dictionary\n",
        "# while the del keyword deletes the dictionary completely.\n",
        "\n",
        "print(my_new_friend)\n",
        "\n",
        "# Removing age from my_new_friend dictionary\n",
        "updated_my_new_friend = my_new_friend.pop(\"age\")\n",
        "\n",
        "# printing out the updated dictionary\n",
        "print(updated_my_new_friend)\n",
        "\n",
        "\n",
        "\n",
        "\n"
      ],
      "metadata": {
        "colab": {
          "base_uri": "https://localhost:8080/"
        },
        "id": "gjEI4BKr_7Vh",
        "outputId": "e471101f-04b8-4a98-e128-764acbc03dd7"
      },
      "execution_count": null,
      "outputs": [
        {
          "output_type": "stream",
          "name": "stdout",
          "text": [
            "{'name': 'Femi', 'age': 26, 'residence': 'Nairobi'}\n",
            "26\n"
          ]
        }
      ]
    },
    {
      "cell_type": "code",
      "source": [
        "\n",
        "# printing out the cleared dictionary\n",
        "print(updated_my_new_friend)\n"
      ],
      "metadata": {
        "colab": {
          "base_uri": "https://localhost:8080/"
        },
        "id": "HE45a-C4BLMh",
        "outputId": "ee696bd0-2ad8-4bb4-a58c-486d5f32a989"
      },
      "execution_count": null,
      "outputs": [
        {
          "output_type": "stream",
          "name": "stdout",
          "text": [
            "26\n"
          ]
        }
      ]
    },
    {
      "cell_type": "code",
      "source": [
        "# deleting the dictionary completely\n",
        "del updated_my_new_friend"
      ],
      "metadata": {
        "id": "bznGcZADBS3E"
      },
      "execution_count": null,
      "outputs": []
    },
    {
      "cell_type": "markdown",
      "source": [
        "#**Functions**"
      ],
      "metadata": {
        "id": "a52_FnRiC11I"
      }
    },
    {
      "cell_type": "code",
      "source": [
        "# Challenge 1\n",
        "# let's create one that returns the maximum of two numbers;\n",
        "#\n",
        "def find_max(num1, num2):\n",
        "  if num1 > num2:\n",
        "    return num1\n",
        "  else:\n",
        "    return num2\n",
        "\n",
        "num1 = int(input(\"Enter the first number: \"))\n",
        "num2 = int(input(\"Enter the second number: \"))\n",
        "\n",
        "max_number = find_max(num1, num2)\n",
        "print(\"The maximum number is:\", max_number)"
      ],
      "metadata": {
        "colab": {
          "base_uri": "https://localhost:8080/"
        },
        "id": "bYDDNXfJEECa",
        "outputId": "da4dac03-d5ae-4344-8786-42ab76aad3e0"
      },
      "execution_count": null,
      "outputs": [
        {
          "output_type": "stream",
          "name": "stdout",
          "text": [
            "Enter the first number: 5\n",
            "Enter the second number: 6\n",
            "The maximum number is: 6\n"
          ]
        }
      ]
    }
  ]
}